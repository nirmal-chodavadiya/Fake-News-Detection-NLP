{
 "cells": [
  {
   "cell_type": "markdown",
   "id": "17a79f9f-187b-468e-83f9-a151d6c293eb",
   "metadata": {},
   "source": [
    "# Fake News Detection Using NLP\n",
    "\n",
    "## Introduction\n",
    "In this notebook, we will build a model to classify news articles as either real or fake using Natural Language Processing (NLP) techniques and deep learning. \n",
    "We will use a dataset containing news articles labeled as real or fake to train our model.\n"
   ]
  },
  {
   "cell_type": "code",
   "execution_count": 1,
   "id": "387bbb9a-13c1-4132-84e8-85b91e652ddd",
   "metadata": {},
   "outputs": [],
   "source": [
    "# Import necessary libraries\n",
    "import os\n",
    "import pandas as pd\n",
    "import numpy as np\n",
    "from sklearn.model_selection import train_test_split\n",
    "from sklearn.preprocessing import LabelEncoder\n",
    "from tensorflow import keras\n",
    "from tensorflow.keras import layers\n",
    "import nltk\n",
    "from nltk.corpus import stopwords\n",
    "from nltk.stem import WordNetLemmatizer\n"
   ]
  },
  {
   "cell_type": "code",
   "execution_count": 3,
   "id": "2c4bdd1f-61bf-4168-adce-7f1bdb48daee",
   "metadata": {},
   "outputs": [
    {
     "name": "stderr",
     "output_type": "stream",
     "text": [
      "[nltk_data] Downloading package stopwords to C:\\Users\\830\n",
      "[nltk_data]     G5\\AppData\\Roaming\\nltk_data...\n",
      "[nltk_data]   Package stopwords is already up-to-date!\n",
      "[nltk_data] Downloading package punkt to C:\\Users\\830\n",
      "[nltk_data]     G5\\AppData\\Roaming\\nltk_data...\n",
      "[nltk_data]   Package punkt is already up-to-date!\n",
      "[nltk_data] Downloading package wordnet to C:\\Users\\830\n",
      "[nltk_data]     G5\\AppData\\Roaming\\nltk_data...\n",
      "[nltk_data]   Package wordnet is already up-to-date!\n"
     ]
    },
    {
     "data": {
      "text/plain": [
       "True"
      ]
     },
     "execution_count": 3,
     "metadata": {},
     "output_type": "execute_result"
    }
   ],
   "source": [
    "# Download NLTK resources\n",
    "import nltk\n",
    "nltk.download('stopwords')\n",
    "nltk.download('punkt')\n",
    "nltk.download('wordnet')\n"
   ]
  },
  {
   "cell_type": "markdown",
   "id": "6595693f-1062-468b-b978-3354b872442f",
   "metadata": {},
   "source": [
    "## Load the Dataset\n",
    "We will load the True and Fake news datasets from the `data` directory.\n"
   ]
  },
  {
   "cell_type": "code",
   "execution_count": 6,
   "id": "140021f4-72df-430a-af19-c56b62be0f8d",
   "metadata": {},
   "outputs": [
    {
     "data": {
      "text/plain": [
       "(                                               title  \\\n",
       " 0  As U.S. budget fight looms, Republicans flip t...   \n",
       " 1  U.S. military to accept transgender recruits o...   \n",
       " 2  Senior U.S. Republican senator: 'Let Mr. Muell...   \n",
       " 3  FBI Russia probe helped by Australian diplomat...   \n",
       " 4  Trump wants Postal Service to charge 'much mor...   \n",
       " \n",
       "                                                 text       subject  \\\n",
       " 0  WASHINGTON (Reuters) - The head of a conservat...  politicsNews   \n",
       " 1  WASHINGTON (Reuters) - Transgender people will...  politicsNews   \n",
       " 2  WASHINGTON (Reuters) - The special counsel inv...  politicsNews   \n",
       " 3  WASHINGTON (Reuters) - Trump campaign adviser ...  politicsNews   \n",
       " 4  SEATTLE/WASHINGTON (Reuters) - President Donal...  politicsNews   \n",
       " \n",
       "                  date  \n",
       " 0  December 31, 2017   \n",
       " 1  December 29, 2017   \n",
       " 2  December 31, 2017   \n",
       " 3  December 30, 2017   \n",
       " 4  December 29, 2017   ,\n",
       "                                                title  \\\n",
       " 0   Donald Trump Sends Out Embarrassing New Year’...   \n",
       " 1   Drunk Bragging Trump Staffer Started Russian ...   \n",
       " 2   Sheriff David Clarke Becomes An Internet Joke...   \n",
       " 3   Trump Is So Obsessed He Even Has Obama’s Name...   \n",
       " 4   Pope Francis Just Called Out Donald Trump Dur...   \n",
       " \n",
       "                                                 text subject  \\\n",
       " 0  Donald Trump just couldn t wish all Americans ...    News   \n",
       " 1  House Intelligence Committee Chairman Devin Nu...    News   \n",
       " 2  On Friday, it was revealed that former Milwauk...    News   \n",
       " 3  On Christmas day, Donald Trump announced that ...    News   \n",
       " 4  Pope Francis used his annual Christmas Day mes...    News   \n",
       " \n",
       "                 date  \n",
       " 0  December 31, 2017  \n",
       " 1  December 31, 2017  \n",
       " 2  December 30, 2017  \n",
       " 3  December 29, 2017  \n",
       " 4  December 25, 2017  )"
      ]
     },
     "execution_count": 6,
     "metadata": {},
     "output_type": "execute_result"
    }
   ],
   "source": [
    "# Load the data\n",
    "data_folder = 'data'  # Update this to your data directory\n",
    "true_news = pd.read_csv(os.path.join(data_folder, 'True.csv'))\n",
    "fake_news = pd.read_csv(os.path.join(data_folder, 'Fake.csv'))\n",
    "\n",
    "# Display the first few rows of each dataset\n",
    "true_news.head(), fake_news.head()\n"
   ]
  },
  {
   "cell_type": "markdown",
   "id": "b3c4a4ee-ed7f-41b3-b32c-0204b2e79b6e",
   "metadata": {},
   "source": [
    "## Data Exploration\n",
    "Let's take a look at the shapes and a summary of the datasets.\n"
   ]
  },
  {
   "cell_type": "code",
   "execution_count": 9,
   "id": "c00dc03e-43fb-4903-b5d8-8a501277167a",
   "metadata": {},
   "outputs": [
    {
     "name": "stdout",
     "output_type": "stream",
     "text": [
      "True news shape: (21417, 4)\n",
      "Fake news shape: (23481, 4)\n"
     ]
    },
    {
     "data": {
      "text/plain": [
       "(                                                    title  \\\n",
       " count                                               21417   \n",
       " unique                                              20826   \n",
       " top     Factbox: Trump fills top jobs for his administ...   \n",
       " freq                                                   14   \n",
       " \n",
       "                                                      text       subject  \\\n",
       " count                                               21417         21417   \n",
       " unique                                              21192             2   \n",
       " top     (Reuters) - Highlights for U.S. President Dona...  politicsNews   \n",
       " freq                                                    8         11272   \n",
       " \n",
       "                       date  \n",
       " count                21417  \n",
       " unique                 716  \n",
       " top     December 20, 2017   \n",
       " freq                   182  ,\n",
       "                                                     title   text subject  \\\n",
       " count                                               23481  23481   23481   \n",
       " unique                                              17903  17455       6   \n",
       " top     MEDIA IGNORES Time That Bill Clinton FIRED His...           News   \n",
       " freq                                                    6    626    9050   \n",
       " \n",
       "                 date  \n",
       " count          23481  \n",
       " unique          1681  \n",
       " top     May 10, 2017  \n",
       " freq              46  )"
      ]
     },
     "execution_count": 9,
     "metadata": {},
     "output_type": "execute_result"
    }
   ],
   "source": [
    "# Check the shapes of the datasets\n",
    "print(f'True news shape: {true_news.shape}')\n",
    "print(f'Fake news shape: {fake_news.shape}')\n",
    "\n",
    "# Display summary statistics\n",
    "true_news.describe(), fake_news.describe()\n"
   ]
  },
  {
   "cell_type": "markdown",
   "id": "d5e37329-6f7c-4f93-b968-fa98299235ea",
   "metadata": {},
   "source": [
    "## Data Preprocessing\n",
    "We will preprocess the text data by:\n",
    "- Lowercasing the text\n",
    "- Tokenizing the text\n",
    "- Lemmatizing the words\n"
   ]
  },
  {
   "cell_type": "code",
   "execution_count": 12,
   "id": "08b78dfe-e292-4acb-81cc-9b59fdeef36e",
   "metadata": {},
   "outputs": [
    {
     "data": {
      "text/html": [
       "<div>\n",
       "<style scoped>\n",
       "    .dataframe tbody tr th:only-of-type {\n",
       "        vertical-align: middle;\n",
       "    }\n",
       "\n",
       "    .dataframe tbody tr th {\n",
       "        vertical-align: top;\n",
       "    }\n",
       "\n",
       "    .dataframe thead th {\n",
       "        text-align: right;\n",
       "    }\n",
       "</style>\n",
       "<table border=\"1\" class=\"dataframe\">\n",
       "  <thead>\n",
       "    <tr style=\"text-align: right;\">\n",
       "      <th></th>\n",
       "      <th>title</th>\n",
       "      <th>text</th>\n",
       "      <th>subject</th>\n",
       "      <th>date</th>\n",
       "      <th>label</th>\n",
       "    </tr>\n",
       "  </thead>\n",
       "  <tbody>\n",
       "    <tr>\n",
       "      <th>0</th>\n",
       "      <td>As U.S. budget fight looms, Republicans flip t...</td>\n",
       "      <td>washington reuters the head of a conservative ...</td>\n",
       "      <td>politicsNews</td>\n",
       "      <td>December 31, 2017</td>\n",
       "      <td>1</td>\n",
       "    </tr>\n",
       "    <tr>\n",
       "      <th>1</th>\n",
       "      <td>U.S. military to accept transgender recruits o...</td>\n",
       "      <td>washington reuters transgender people will be ...</td>\n",
       "      <td>politicsNews</td>\n",
       "      <td>December 29, 2017</td>\n",
       "      <td>1</td>\n",
       "    </tr>\n",
       "    <tr>\n",
       "      <th>2</th>\n",
       "      <td>Senior U.S. Republican senator: 'Let Mr. Muell...</td>\n",
       "      <td>washington reuters the special counsel investi...</td>\n",
       "      <td>politicsNews</td>\n",
       "      <td>December 31, 2017</td>\n",
       "      <td>1</td>\n",
       "    </tr>\n",
       "    <tr>\n",
       "      <th>3</th>\n",
       "      <td>FBI Russia probe helped by Australian diplomat...</td>\n",
       "      <td>washington reuters trump campaign adviser geor...</td>\n",
       "      <td>politicsNews</td>\n",
       "      <td>December 30, 2017</td>\n",
       "      <td>1</td>\n",
       "    </tr>\n",
       "    <tr>\n",
       "      <th>4</th>\n",
       "      <td>Trump wants Postal Service to charge 'much mor...</td>\n",
       "      <td>reuters president donald trump called on the p...</td>\n",
       "      <td>politicsNews</td>\n",
       "      <td>December 29, 2017</td>\n",
       "      <td>1</td>\n",
       "    </tr>\n",
       "  </tbody>\n",
       "</table>\n",
       "</div>"
      ],
      "text/plain": [
       "                                               title  \\\n",
       "0  As U.S. budget fight looms, Republicans flip t...   \n",
       "1  U.S. military to accept transgender recruits o...   \n",
       "2  Senior U.S. Republican senator: 'Let Mr. Muell...   \n",
       "3  FBI Russia probe helped by Australian diplomat...   \n",
       "4  Trump wants Postal Service to charge 'much mor...   \n",
       "\n",
       "                                                text       subject  \\\n",
       "0  washington reuters the head of a conservative ...  politicsNews   \n",
       "1  washington reuters transgender people will be ...  politicsNews   \n",
       "2  washington reuters the special counsel investi...  politicsNews   \n",
       "3  washington reuters trump campaign adviser geor...  politicsNews   \n",
       "4  reuters president donald trump called on the p...  politicsNews   \n",
       "\n",
       "                 date  label  \n",
       "0  December 31, 2017       1  \n",
       "1  December 29, 2017       1  \n",
       "2  December 31, 2017       1  \n",
       "3  December 30, 2017       1  \n",
       "4  December 29, 2017       1  "
      ]
     },
     "execution_count": 12,
     "metadata": {},
     "output_type": "execute_result"
    }
   ],
   "source": [
    "# Combine datasets and create labels\n",
    "true_news['label'] = 1  # 1 for real news\n",
    "fake_news['label'] = 0   # 0 for fake news\n",
    "data = pd.concat([true_news, fake_news], ignore_index=True)\n",
    "\n",
    "# Define a function to preprocess text\n",
    "def preprocess_text(text):\n",
    "    lemmatizer = WordNetLemmatizer()\n",
    "    text = text.lower()  # Convert to lowercase\n",
    "    words = nltk.word_tokenize(text)  # Tokenize the text\n",
    "    words = [lemmatizer.lemmatize(word) for word in words if word.isalnum()]  # Lemmatize and remove punctuation\n",
    "    return ' '.join(words)\n",
    "\n",
    "# Apply preprocessing\n",
    "data['text'] = data['text'].apply(preprocess_text)\n",
    "\n",
    "# Display the first few rows of the preprocessed data\n",
    "data.head()\n"
   ]
  },
  {
   "cell_type": "markdown",
   "id": "00bb9799-cb70-42a1-8366-15c14a21b5b3",
   "metadata": {},
   "source": [
    "## Encode Labels\n",
    "We will encode the labels (real/fake) using Label Encoding.\n"
   ]
  },
  {
   "cell_type": "code",
   "execution_count": 16,
   "id": "2659d4a8-81e1-431f-83ab-df8756e4c83d",
   "metadata": {},
   "outputs": [
    {
     "name": "stdout",
     "output_type": "stream",
     "text": [
      "[1 1 1 1 1]\n"
     ]
    }
   ],
   "source": [
    "# Encode labels\n",
    "X = data['text']\n",
    "y = data['label']\n",
    "le = LabelEncoder()\n",
    "y_encoded = le.fit_transform(y)\n",
    "\n",
    "# Display encoded labels\n",
    "print(y_encoded[:5])\n"
   ]
  },
  {
   "cell_type": "markdown",
   "id": "61f1c10f-a53b-4051-b87b-4de7d3219fbb",
   "metadata": {},
   "source": [
    "## Split the Data\n",
    "We will split the dataset into training and testing sets.\n"
   ]
  },
  {
   "cell_type": "code",
   "execution_count": 19,
   "id": "f5e34fc9-cb76-4b61-b4eb-d5fa8686ce5c",
   "metadata": {},
   "outputs": [],
   "source": [
    "# Split the data into training and test sets\n",
    "X_train, X_test, y_train, y_test = train_test_split(X, y_encoded, test_size=0.2, random_state=42)\n"
   ]
  },
  {
   "cell_type": "markdown",
   "id": "84b6ec04-d442-4fd0-82fa-8ac89f221e8a",
   "metadata": {},
   "source": [
    "## Tokenization and Padding Sequences\n",
    "We will tokenize the text data and pad the sequences to ensure uniform input size for our model.\n"
   ]
  },
  {
   "cell_type": "code",
   "execution_count": 22,
   "id": "271c7960-c7cf-4002-9725-5b8fcc246dc8",
   "metadata": {},
   "outputs": [],
   "source": [
    "# Tokenization and padding sequences\n",
    "tokenizer = keras.preprocessing.text.Tokenizer()\n",
    "tokenizer.fit_on_texts(X_train)\n",
    "\n",
    "X_train_seq = tokenizer.texts_to_sequences(X_train)\n",
    "X_test_seq = tokenizer.texts_to_sequences(X_test)\n",
    "\n",
    "# Padding sequences\n",
    "max_length = max([len(x) for x in X_train_seq])\n",
    "X_train_padded = keras.preprocessing.sequence.pad_sequences(X_train_seq, maxlen=max_length, padding='post')\n",
    "X_test_padded = keras.preprocessing.sequence.pad_sequences(X_test_seq, maxlen=max_length, padding='post')\n"
   ]
  },
  {
   "cell_type": "markdown",
   "id": "882b8b1d-d49b-4a4b-af9a-bd9a29b0ae23",
   "metadata": {},
   "source": [
    "## Build the Model\n",
    "We will create a deep learning model using Keras.\n"
   ]
  },
  {
   "cell_type": "code",
   "execution_count": 29,
   "id": "d8275a15-5ff5-4d78-bd32-3d9c5137ae5c",
   "metadata": {},
   "outputs": [],
   "source": [
    "# Build the model\n",
    "model = keras.Sequential([\n",
    "    layers.Embedding(input_dim=len(tokenizer.word_index) + 1, output_dim=64),  # Removed input_length\n",
    "    layers.GlobalAveragePooling1D(),\n",
    "    layers.Dense(16, activation='relu'),\n",
    "    layers.Dense(1, activation='sigmoid')  # Use 'softmax' for multiclass classification\n",
    "])\n",
    "\n",
    "# Compile the model\n",
    "model.compile(optimizer='adam', loss='binary_crossentropy', metrics=['accuracy'])\n"
   ]
  },
  {
   "cell_type": "markdown",
   "id": "e1488e7c-ebde-45c4-a0ef-876e52a14b63",
   "metadata": {},
   "source": [
    "## Train the Model\n",
    "We will train the model on the training data.\n"
   ]
  },
  {
   "cell_type": "code",
   "execution_count": 32,
   "id": "333b8f1b-5b9c-4d48-8f5a-7a5befe2a838",
   "metadata": {},
   "outputs": [
    {
     "name": "stdout",
     "output_type": "stream",
     "text": [
      "Epoch 1/5\n",
      "\u001b[1m1123/1123\u001b[0m \u001b[32m━━━━━━━━━━━━━━━━━━━━\u001b[0m\u001b[37m\u001b[0m \u001b[1m159s\u001b[0m 139ms/step - accuracy: 0.5201 - loss: 0.6978 - val_accuracy: 0.5178 - val_loss: 0.6925\n",
      "Epoch 2/5\n",
      "\u001b[1m1123/1123\u001b[0m \u001b[32m━━━━━━━━━━━━━━━━━━━━\u001b[0m\u001b[37m\u001b[0m \u001b[1m159s\u001b[0m 141ms/step - accuracy: 0.5263 - loss: 0.6918 - val_accuracy: 0.5178 - val_loss: 0.6921\n",
      "Epoch 3/5\n",
      "\u001b[1m1123/1123\u001b[0m \u001b[32m━━━━━━━━━━━━━━━━━━━━\u001b[0m\u001b[37m\u001b[0m \u001b[1m155s\u001b[0m 138ms/step - accuracy: 0.5226 - loss: 0.6925 - val_accuracy: 0.4835 - val_loss: 0.6995\n",
      "Epoch 4/5\n",
      "\u001b[1m1123/1123\u001b[0m \u001b[32m━━━━━━━━━━━━━━━━━━━━\u001b[0m\u001b[37m\u001b[0m \u001b[1m156s\u001b[0m 139ms/step - accuracy: 0.5327 - loss: 0.6895 - val_accuracy: 0.5178 - val_loss: 0.6949\n",
      "Epoch 5/5\n",
      "\u001b[1m1123/1123\u001b[0m \u001b[32m━━━━━━━━━━━━━━━━━━━━\u001b[0m\u001b[37m\u001b[0m \u001b[1m155s\u001b[0m 138ms/step - accuracy: 0.5960 - loss: 0.6631 - val_accuracy: 0.5457 - val_loss: 0.6079\n"
     ]
    }
   ],
   "source": [
    "# Train the model\n",
    "history = model.fit(X_train_padded, y_train, epochs=5, validation_data=(X_test_padded, y_test))\n"
   ]
  },
  {
   "cell_type": "markdown",
   "id": "ce58bf6d-25e2-471c-8c2f-1083393f5e1c",
   "metadata": {},
   "source": [
    "## Evaluate the Model\n",
    "We will evaluate the model's performance on the test data.\n"
   ]
  },
  {
   "cell_type": "code",
   "execution_count": 35,
   "id": "8e24836d-d589-4050-8a5b-d302a2a1ef3a",
   "metadata": {},
   "outputs": [
    {
     "name": "stdout",
     "output_type": "stream",
     "text": [
      "\u001b[1m281/281\u001b[0m \u001b[32m━━━━━━━━━━━━━━━━━━━━\u001b[0m\u001b[37m\u001b[0m \u001b[1m7s\u001b[0m 23ms/step - accuracy: 0.5550 - loss: 0.6029\n",
      "Test Accuracy: 0.55\n"
     ]
    }
   ],
   "source": [
    "# Evaluate the model\n",
    "loss, accuracy = model.evaluate(X_test_padded, y_test)\n",
    "print(f'Test Accuracy: {accuracy:.2f}')\n"
   ]
  },
  {
   "cell_type": "markdown",
   "id": "ca895024-dd45-41de-8c41-1527f170f4fe",
   "metadata": {},
   "source": [
    "## Visualize Training History\n",
    "We will visualize the training and validation accuracy and loss.\n"
   ]
  },
  {
   "cell_type": "code",
   "execution_count": 38,
   "id": "d5cf0256-7093-4514-8df0-8a92d982e108",
   "metadata": {},
   "outputs": [
    {
     "data": {
      "image/png": "[encoded data removed]",
      "text/plain": [
       "<Figure size 1200x400 with 2 Axes>"
      ]
     },
     "metadata": {},
     "output_type": "display_data"
    }
   ],
   "source": [
    "import matplotlib.pyplot as plt\n",
    "\n",
    "# Plot training & validation accuracy values\n",
    "plt.figure(figsize=(12, 4))\n",
    "plt.subplot(1, 2, 1)\n",
    "plt.plot(history.history['accuracy'], label='Train Accuracy')\n",
    "plt.plot(history.history['val_accuracy'], label='Test Accuracy')\n",
    "plt.title('Model Accuracy')\n",
    "plt.xlabel('Epochs')\n",
    "plt.ylabel('Accuracy')\n",
    "plt.legend()\n",
    "\n",
    "# Plot training & validation loss values\n",
    "plt.subplot(1, 2, 2)\n",
    "plt.plot(history.history['loss'], label='Train Loss')\n",
    "plt.plot(history.history['val_loss'], label='Test Loss')\n",
    "plt.title('Model Loss')\n",
    "plt.xlabel('Epochs')\n",
    "plt.ylabel('Loss')\n",
    "plt.legend()\n",
    "\n",
    "plt.show()\n"
   ]
  },
  {
   "cell_type": "markdown",
   "id": "e62bcd60-0131-4bf9-ba53-40ecf07a97bd",
   "metadata": {},
   "source": [
    "## Conclusion\n",
    "In this notebook, we successfully built a model for fake news detection using NLP techniques. The model's accuracy on the test set was satisfactory, and further improvements can be made by experimenting with different architectures or hyperparameters.\n"
   ]
  },
  {
   "cell_type": "markdown",
   "id": "fbeb4e6f-0ff0-4ce3-8a4e-3ac71b0be591",
   "metadata": {},
   "source": [
    "## References\n",
    "- [Dataset Source](https://www.kaggle.com/c/fake-news)\n",
    "- [TensorFlow Documentation](https://www.tensorflow.org/api_docs/python/tf/keras)\n",
    "- [NLTK Documentation](https://www.nltk.org/)\n"
   ]
  },
  {
   "cell_type": "code",
   "execution_count": null,
   "id": "818a3f82-072a-4fa8-b5dd-1bb4c3565f83",
   "metadata": {},
   "outputs": [],
   "source": []
  }
 ],
 "metadata": {
  "kernelspec": {
   "display_name": "Python 3 (ipykernel)",
   "language": "python",
   "name": "python3"
  },
  "language_info": {
   "codemirror_mode": {
    "name": "ipython",
    "version": 3
   },
   "file_extension": ".py",
   "mimetype": "text/x-python",
   "name": "python",
   "nbconvert_exporter": "python",
   "pygments_lexer": "ipython3",
   "version": "3.12.4"
  }
 },
 "nbformat": 4,
 "nbformat_minor": 5
}
